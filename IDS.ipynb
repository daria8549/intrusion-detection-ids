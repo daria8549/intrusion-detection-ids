{
 "cells": [
  {
   "cell_type": "markdown",
   "metadata": {},
   "source": [
    "### UNSW-NB15 Dataset: Data Information\n",
    "\n",
    "* This dataset is from:  https://www.unsw.adfa.edu.au/unsw-canberra-cyber/cybersecurity/ADFA-NB15-Datasets/\n",
    "* Refer: http://dx.doi.org/10.1080/19393555.2015.1125974\n",
    "\n",
    "This dataset was created by: Nour Moustafa (IEEE student member), Jill Slay"
   ]
  },
  {
   "cell_type": "markdown",
   "metadata": {},
   "source": [
    "##### Intrusion Detection System (IDS) \n",
    "- cybersecurity tool designed to monitor network traffic and detect suspicious activities or potential security breaches.\n",
    "- analyzes incoming and outgoing data to identify signs of malicious behavior, such as unauthorized access, malware, or denial of service (DoS) attacks.\n",
    "- once an intrusion is detected, the IDS alerts system administrators, enabling them to take appropriate action to mitigate the threat."
   ]
  },
  {
   "cell_type": "markdown",
   "metadata": {},
   "source": [
    "In our case, we are training a signature-based IDS system, which focuses on detecting known attack patterns. This system analyzes a CSV file containing data on previous attacks and their features, determining which features are relevant for prediction and which are not."
   ]
  },
  {
   "cell_type": "code",
   "execution_count": 1,
   "metadata": {},
   "outputs": [
    {
     "name": "stdout",
     "output_type": "stream",
     "text": [
      "Requirement already satisfied: numpy==1.20 in /opt/conda/lib/python3.8/site-packages (1.20.0)\n"
     ]
    }
   ],
   "source": [
    "import findspark\n",
    "findspark.init(\"/usr/local/spark/\")\n",
    "\n",
    "from pyspark.sql import SparkSession\n",
    "from pyspark.sql.functions import col, trim, lower, sum, count, when\n",
    "from pyspark.sql.types import IntegerType, FloatType\n",
    "from pyspark.ml import Pipeline\n",
    "from pyspark.sql import functions as F\n",
    "from pyspark.ml.feature import StringIndexer, VectorAssembler, StandardScaler\n",
    "from pyspark.ml.classification import DecisionTreeClassifier, RandomForestClassifier, NaiveBayes\n",
    "from pyspark.ml.regression import LinearRegression\n",
    "from pyspark.ml.evaluation import MulticlassClassificationEvaluator, RegressionEvaluator, BinaryClassificationEvaluator\n",
    "from functools import reduce\n",
    "from pyspark.sql.functions import regexp_replace\n",
    "!pip install numpy==1.20\n",
    "\n",
    "import matplotlib.pyplot as plt\n",
    "import numpy as np\n",
    "import seaborn as sns\n",
    "\n",
    "from sklearn.metrics import confusion_matrix, roc_curve, auc"
   ]
  },
  {
   "cell_type": "markdown",
   "metadata": {},
   "source": [
    "#### Setting Up Spark\n",
    "To process large-scale security logs, Apache Spark is used for distributed data processing. \n",
    "This ensures efficient handling of network traffic data and later supports machine learning models for attack detection.\n"
   ]
  },
  {
   "cell_type": "code",
   "execution_count": 2,
   "metadata": {},
   "outputs": [
    {
     "name": "stdout",
     "output_type": "stream",
     "text": [
      "✅ Spark session started successfully.\n"
     ]
    }
   ],
   "source": [
    "try:\n",
    "    spark = SparkSession.builder \\\n",
    "        .master(\"local\") \\\n",
    "        .appName(\"IDS System\") \\\n",
    "        .config(\"spark.executor.memory\", \"1gb\") \\\n",
    "        .getOrCreate()\n",
    "    sc = spark.sparkContext\n",
    "    print(\"✅ Spark session started successfully.\")\n",
    "except Exception as e:\n",
    "    print(\"❌ Error initializing Spark Session:\", str(e))\n",
    "    raise"
   ]
  },
  {
   "cell_type": "markdown",
   "metadata": {},
   "source": [
    "#### Loading Cybersecurity Dataset\n",
    "The dataset used is UNSW-NB15, which contains labeled network traffic data. \n",
    "Below is an example of how Spark reads the CSV file and infers the schema automatically. "
   ]
  },
  {
   "cell_type": "code",
   "execution_count": 3,
   "metadata": {},
   "outputs": [
    {
     "name": "stdout",
     "output_type": "stream",
     "text": [
      "+----------+-----+-------------+----+---+---+--------+---+---+---+---+---+---+---+-----------+-----------+---+---+---+---+---+---+---+---+---+---+---------+---------+------------+------------+------+--------+---+---+---+---+---+---+---+---+---+---+---+---+---+---+---+----+---+\n",
      "|59.166.0.0|1390 |149.171.126.6|53  |udp|CON|0.001055|132|164|31 |29 |011|012|dns|500473.9375|621800.9375|216|217|018|019|020|021|66 |82 |024|025|026      |027      |142192741428|142192741429|0.017 |0.013   |032|033|034|035|036|037|038|039|340|7  |142|343|144|145|146|_c47|048|\n",
      "+----------+-----+-------------+----+---+---+--------+---+---+---+---+---+---+---+-----------+-----------+---+---+---+---+---+---+---+---+---+---+---------+---------+------------+------------+------+--------+---+---+---+---+---+---+---+---+---+---+---+---+---+---+---+----+---+\n",
      "|59.166.0.0|33661|149.171.126.9|1024|udp|CON|0.036133|528|304|31 |29 |0  |0  |-  |87676.08594|50480.17188|4  |4  |0  |0  |0  |0  |132|76 |0  |0  |9.89101  |10.682733|1421927414  |1421927414  |7.005 |7.564333|0.0|0.0|0.0|0  |0  |0  |0  |0  |2  |4  |2  |3  |1  |1  |2  |null|0  |\n",
      "|59.166.0.6|1464 |149.171.126.7|53  |udp|CON|0.001119|146|178|31 |29 |0  |0  |dns|521894.5313|636282.375 |2  |2  |0  |0  |0  |0  |73 |89 |0  |0  |0.0      |0.0      |1421927414  |1421927414  |0.017 |0.013   |0.0|0.0|0.0|0  |0  |0  |0  |0  |12 |8  |1  |2  |2  |1  |1  |null|0  |\n",
      "|59.166.0.5|3593 |149.171.126.5|53  |udp|CON|0.001209|132|164|31 |29 |0  |0  |dns|436724.5625|542597.1875|2  |2  |0  |0  |0  |0  |66 |82 |0  |0  |0.0      |0.0      |1421927414  |1421927414  |0.043 |0.014   |0.0|0.0|0.0|0  |0  |0  |0  |0  |6  |9  |1  |1  |1  |1  |1  |null|0  |\n",
      "|59.166.0.3|49664|149.171.126.0|53  |udp|CON|0.001169|146|178|31 |29 |0  |0  |dns|499572.25  |609067.5625|2  |2  |0  |0  |0  |0  |73 |89 |0  |0  |0.0      |0.0      |1421927414  |1421927414  |0.005 |0.003   |0.0|0.0|0.0|0  |0  |0  |0  |0  |7  |9  |1  |1  |1  |1  |1  |null|0  |\n",
      "|59.166.0.0|32119|149.171.126.9|111 |udp|CON|0.078339|568|312|31 |29 |0  |0  |-  |43503.23438|23896.14258|4  |4  |0  |0  |0  |0  |142|78 |0  |0  |29.682221|34.37034 |1421927414  |1421927414  |21.003|24.315  |0.0|0.0|0.0|0  |0  |0  |0  |0  |2  |4  |2  |3  |1  |1  |2  |null|0  |\n",
      "+----------+-----+-------------+----+---+---+--------+---+---+---+---+---+---+---+-----------+-----------+---+---+---+---+---+---+---+---+---+---+---------+---------+------------+------------+------+--------+---+---+---+---+---+---+---+---+---+---+---+---+---+---+---+----+---+\n",
      "only showing top 5 rows\n",
      "\n",
      "✅ CSV file loaded successfully.\n"
     ]
    }
   ],
   "source": [
    "# Loading and Previewing Data\n",
    "try:\n",
    "    df = spark.read.csv(\"./data/UNSW-NB15_1.csv\", header=True, inferSchema=True)\n",
    "    df.show(5, truncate=False)\n",
    "    print(\"✅ CSV file loaded successfully.\")\n",
    "except Exception as e:\n",
    "    print(\"❌ Error loading dataset:\", str(e))\n",
    "    df = None"
   ]
  },
  {
   "cell_type": "markdown",
   "metadata": {},
   "source": [
    "### Preprocessing the Dataset\n",
    "Before training a machine learning model, the dataset needs to be cleaned and properly structured. This involves merging multiple CSV files and selecting relevant features. \n",
    "\n",
    "In the current implementation, the loop reads only one CSV file out of four to reduce compilation time as a proof of concept. However, you can adjust the range to read from 1 to 5 CSV files if you prefer."
   ]
  },
  {
   "cell_type": "code",
   "execution_count": 4,
   "metadata": {},
   "outputs": [
    {
     "name": "stdout",
     "output_type": "stream",
     "text": [
      "✅ All CSVs read and combined successfully.\n",
      "+----------+-----+-------------+------+-----+-----+--------+------+------+----+----+-----+-----+-------+-----------+-----------+-----+-----+----+----+-----+-----+-------+-------+-----------+-----------+-------+---------+----------+----------+-------+--------+------+------+------+---------------+------------+----------------+------------+----------+----------+----------+----------+-----------+----------------+----------------+--------------+----------+-----+\n",
      "|     srcip|sport|        dstip|dsport|proto|state|     dur|sbytes|dbytes|sttl|dttl|sloss|dloss|service|      sload|      dload|spkts|dpkts|swin|dwin|stcpb|dtcpb|smeansz|dmeansz|trans_depth|res_bdy_len|   sjit|     djit|     stime|     ltime|sintpkt| dintpkt|tcprtt|synack|ackdat|is_sm_ips_ports|ct_state_ttl|ct_flw_http_mthd|is_ftp_login|ct_ftp_cmd|ct_srv_src|ct_srv_dst|ct_dst_ltm|ct_src_ ltm|ct_src_dport_ltm|ct_dst_sport_ltm|ct_dst_src_ltm|attack_cat|label|\n",
      "+----------+-----+-------------+------+-----+-----+--------+------+------+----+----+-----+-----+-------+-----------+-----------+-----+-----+----+----+-----+-----+-------+-------+-----------+-----------+-------+---------+----------+----------+-------+--------+------+------+------+---------------+------------+----------------+------------+----------+----------+----------+----------+-----------+----------------+----------------+--------------+----------+-----+\n",
      "|59.166.0.0| 1390|149.171.126.6|    53|  udp|  CON|0.001055|   132|   164|  31|  29|    0|    0|    dns|500473.9375|621800.9375|    2|    2|   0|   0|    0|    0|     66|     82|          0|          0|    0.0|      0.0|1421927414|1421927414|  0.017|   0.013|   0.0|   0.0|   0.0|              0|           0|               0|           0|         0|         3|         7|         1|          3|               1|               1|             1|      null|    0|\n",
      "|59.166.0.0|33661|149.171.126.9|  1024|  udp|  CON|0.036133|   528|   304|  31|  29|    0|    0|      -|87676.08594|50480.17188|    4|    4|   0|   0|    0|    0|    132|     76|          0|          0|9.89101|10.682733|1421927414|1421927414|  7.005|7.564333|   0.0|   0.0|   0.0|              0|           0|               0|           0|         0|         2|         4|         2|          3|               1|               1|             2|      null|    0|\n",
      "|59.166.0.6| 1464|149.171.126.7|    53|  udp|  CON|0.001119|   146|   178|  31|  29|    0|    0|    dns|521894.5313| 636282.375|    2|    2|   0|   0|    0|    0|     73|     89|          0|          0|    0.0|      0.0|1421927414|1421927414|  0.017|   0.013|   0.0|   0.0|   0.0|              0|           0|               0|           0|         0|        12|         8|         1|          2|               2|               1|             1|      null|    0|\n",
      "|59.166.0.5| 3593|149.171.126.5|    53|  udp|  CON|0.001209|   132|   164|  31|  29|    0|    0|    dns|436724.5625|542597.1875|    2|    2|   0|   0|    0|    0|     66|     82|          0|          0|    0.0|      0.0|1421927414|1421927414|  0.043|   0.014|   0.0|   0.0|   0.0|              0|           0|               0|           0|         0|         6|         9|         1|          1|               1|               1|             1|      null|    0|\n",
      "|59.166.0.3|49664|149.171.126.0|    53|  udp|  CON|0.001169|   146|   178|  31|  29|    0|    0|    dns|  499572.25|609067.5625|    2|    2|   0|   0|    0|    0|     73|     89|          0|          0|    0.0|      0.0|1421927414|1421927414|  0.005|   0.003|   0.0|   0.0|   0.0|              0|           0|               0|           0|         0|         7|         9|         1|          1|               1|               1|             1|      null|    0|\n",
      "+----------+-----+-------------+------+-----+-----+--------+------+------+----+----+-----+-----+-------+-----------+-----------+-----+-----+----+----+-----+-----+-------+-------+-----------+-----------+-------+---------+----------+----------+-------+--------+------+------+------+---------------+------------+----------------+------------+----------+----------+----------+----------+-----------+----------------+----------------+--------------+----------+-----+\n",
      "only showing top 5 rows\n",
      "\n"
     ]
    }
   ],
   "source": [
    "# Defining file paths\n",
    "file_paths = [f\"./data/UNSW-NB15_{i}.csv\" for i in range(1, 2)]   \n",
    "\n",
    "# Reading all CSVs and storing them in a list\n",
    "try:\n",
    "    dfs = [spark.read.csv(path, header=False, inferSchema=True) for path in file_paths]\n",
    "    # combining all datasets into one\n",
    "    all_data = reduce(lambda df1, df2: df1.union(df2), dfs)\n",
    "    print(\"✅ All CSVs read and combined successfully.\")\n",
    "except Exception as e:\n",
    "    print(\"❌ Error reading or combining CSVs:\", str(e))\n",
    "    all_data = None\n",
    "\n",
    "# Loading feature names\n",
    "try:\n",
    "    # reading the features file\n",
    "    features_path = \"./data/NUSW-NB15_features.csv\"\n",
    "    df_col = spark.read.csv(features_path, header=True, inferSchema=True)\n",
    "    \n",
    "    # getting rid of spaces, and converting to lowercase\"Name\" column \n",
    "    df_col = df_col.withColumn(\"Name\", lower(trim(col(\"Name\"))))\n",
    "    \n",
    "    # converting feature names to a Python list\n",
    "    feature_names = [row[\"Name\"] for row in df_col.select(\"Name\").collect()]\n",
    "except Exception as e:\n",
    "    print(\"❌ Error loading features file:\", str(e))\n",
    "    raise  \n",
    "\n",
    "# renaming columns in `all_data` using feature names\n",
    "for idx, feature in enumerate(feature_names):\n",
    "    all_data = all_data.withColumnRenamed(f\"_c{idx}\", feature)\n",
    "\n",
    "# saving column names (excluding 'label') in a dictionary\n",
    "saved_dict = {\"columns\": [col for col in feature_names if col != \"label\"]}\n",
    "\n",
    "all_data.show(5)"
   ]
  },
  {
   "cell_type": "markdown",
   "metadata": {},
   "source": [
    "For deteiled description of features you can see \"Features description.txt\""
   ]
  },
  {
   "cell_type": "code",
   "execution_count": 5,
   "metadata": {},
   "outputs": [
    {
     "name": "stdout",
     "output_type": "stream",
     "text": [
      "['srcip', 'sport', 'dstip', 'dsport', 'proto', 'state', 'dur', 'sbytes', 'dbytes', 'sttl', 'dttl', 'sloss', 'dloss', 'service', 'sload', 'dload', 'spkts', 'dpkts', 'swin', 'dwin', 'stcpb', 'dtcpb', 'smeansz', 'dmeansz', 'trans_depth', 'res_bdy_len', 'sjit', 'djit', 'stime', 'ltime', 'sintpkt', 'dintpkt', 'tcprtt', 'synack', 'ackdat', 'is_sm_ips_ports', 'ct_state_ttl', 'ct_flw_http_mthd', 'is_ftp_login', 'ct_ftp_cmd', 'ct_srv_src', 'ct_srv_dst', 'ct_dst_ltm', 'ct_src_ ltm', 'ct_src_dport_ltm', 'ct_dst_sport_ltm', 'ct_dst_src_ltm', 'attack_cat', 'label']\n"
     ]
    }
   ],
   "source": [
    "try:\n",
    "    print(all_data.columns)\n",
    "except Exception as e:\n",
    "    print(f\"❌ Error accessing dataset columns: {e}\")"
   ]
  },
  {
   "cell_type": "code",
   "execution_count": 6,
   "metadata": {},
   "outputs": [
    {
     "name": "stdout",
     "output_type": "stream",
     "text": [
      "['srcip', 'sport', 'dstip', 'dsport', 'proto', 'state', 'dur', 'sbytes', 'dbytes', 'sttl', 'dttl', 'sloss', 'dloss', 'service', 'sload', 'dload', 'spkts', 'dpkts', 'swin', 'dwin', 'stcpb', 'dtcpb', 'smeansz', 'dmeansz', 'trans_depth', 'res_bdy_len', 'sjit', 'djit', 'stime', 'ltime', 'sintpkt', 'dintpkt', 'tcprtt', 'synack', 'ackdat', 'is_sm_ips_ports', 'ct_state_ttl', 'ct_flw_http_mthd', 'is_ftp_login', 'ct_ftp_cmd', 'ct_srv_src', 'ct_srv_dst', 'ct_dst_ltm', 'ct_src_ltm', 'ct_src_dport_ltm', 'ct_dst_sport_ltm', 'ct_dst_src_ltm', 'attack_cat', 'label']\n"
     ]
    }
   ],
   "source": [
    "# removing spaces from column names\n",
    "for col_name in all_data.columns:\n",
    "    new_col_name = col_name.replace(\" \", \"\")\n",
    "    all_data = all_data.withColumnRenamed(col_name, new_col_name)\n",
    "\n",
    "# verifying changes\n",
    "print(all_data.columns)\n",
    "# Check \"ct_src_ ltm\""
   ]
  },
  {
   "cell_type": "code",
   "execution_count": 7,
   "metadata": {},
   "outputs": [
    {
     "name": "stdout",
     "output_type": "stream",
     "text": [
      "+-----+-----+-----+------+-----+-----+---+------+------+----+----+-----+-----+-------+-----+-----+-----+-----+----+----+-----+-----+-------+-------+-----------+-----------+----+----+-----+-----+-------+-------+------+------+------+---------------+------------+----------------+------------+----------+----------+----------+----------+----------+----------------+----------------+--------------+----------+-----+\n",
      "|srcip|sport|dstip|dsport|proto|state|dur|sbytes|dbytes|sttl|dttl|sloss|dloss|service|sload|dload|spkts|dpkts|swin|dwin|stcpb|dtcpb|smeansz|dmeansz|trans_depth|res_bdy_len|sjit|djit|stime|ltime|sintpkt|dintpkt|tcprtt|synack|ackdat|is_sm_ips_ports|ct_state_ttl|ct_flw_http_mthd|is_ftp_login|ct_ftp_cmd|ct_srv_src|ct_srv_dst|ct_dst_ltm|ct_src_ltm|ct_src_dport_ltm|ct_dst_sport_ltm|ct_dst_src_ltm|attack_cat|label|\n",
      "+-----+-----+-----+------+-----+-----+---+------+------+----+----+-----+-----+-------+-----+-----+-----+-----+----+----+-----+-----+-------+-------+-----------+-----------+----+----+-----+-----+-------+-------+------+------+------+---------------+------------+----------------+------------+----------+----------+----------+----------+----------+----------------+----------------+--------------+----------+-----+\n",
      "|    0|    0|    0|     0|    0|    0|  0|     0|     0|   0|   0|    0|    0|      0|    0|    0|    0|    0|   0|   0|    0|    0|      0|      0|          0|          0|   0|   0|    0|    0|      0|      0|     0|     0|     0|              0|           0|               0|           0|         0|         0|         0|         0|         0|               0|               0|             0|    677786|    0|\n",
      "+-----+-----+-----+------+-----+-----+---+------+------+----+----+-----+-----+-------+-----+-----+-----+-----+----+----+-----+-----+-------+-------+-----------+-----------+----+----+-----+-----+-------+-------+------+------+------+---------------+------------+----------------+------------+----------+----------+----------+----------+----------+----------------+----------------+--------------+----------+-----+\n",
      "\n"
     ]
    }
   ],
   "source": [
    "# Count nulls per column\n",
    "null_counts = all_data.select([sum(col(c).isNull().cast(\"int\")).alias(c) for c in all_data.columns])\n",
    "null_counts.show()"
   ]
  },
  {
   "cell_type": "code",
   "execution_count": 8,
   "metadata": {},
   "outputs": [],
   "source": [
    "all_data = all_data.fillna({'attack_cat': 'null'})"
   ]
  },
  {
   "cell_type": "code",
   "execution_count": 9,
   "metadata": {},
   "outputs": [
    {
     "name": "stdout",
     "output_type": "stream",
     "text": [
      "root\n",
      " |-- srcip: string (nullable = true)\n",
      " |-- sport: integer (nullable = true)\n",
      " |-- dstip: string (nullable = true)\n",
      " |-- dsport: integer (nullable = true)\n",
      " |-- proto: string (nullable = true)\n",
      " |-- state: string (nullable = true)\n",
      " |-- dur: float (nullable = true)\n",
      " |-- sbytes: float (nullable = true)\n",
      " |-- dbytes: float (nullable = true)\n",
      " |-- sttl: integer (nullable = true)\n",
      " |-- dttl: integer (nullable = true)\n",
      " |-- sloss: integer (nullable = true)\n",
      " |-- dloss: integer (nullable = true)\n",
      " |-- service: string (nullable = true)\n",
      " |-- sload: float (nullable = true)\n",
      " |-- dload: float (nullable = true)\n",
      " |-- spkts: integer (nullable = true)\n",
      " |-- dpkts: integer (nullable = true)\n",
      " |-- swin: integer (nullable = true)\n",
      " |-- dwin: integer (nullable = true)\n",
      " |-- stcpb: long (nullable = true)\n",
      " |-- dtcpb: long (nullable = true)\n",
      " |-- smeansz: integer (nullable = true)\n",
      " |-- dmeansz: integer (nullable = true)\n",
      " |-- trans_depth: integer (nullable = true)\n",
      " |-- res_bdy_len: integer (nullable = true)\n",
      " |-- sjit: float (nullable = true)\n",
      " |-- djit: float (nullable = true)\n",
      " |-- stime: float (nullable = true)\n",
      " |-- ltime: float (nullable = true)\n",
      " |-- sintpkt: float (nullable = true)\n",
      " |-- dintpkt: float (nullable = true)\n",
      " |-- tcprtt: float (nullable = true)\n",
      " |-- synack: float (nullable = true)\n",
      " |-- ackdat: float (nullable = true)\n",
      " |-- is_sm_ips_ports: integer (nullable = true)\n",
      " |-- ct_state_ttl: integer (nullable = true)\n",
      " |-- ct_flw_http_mthd: integer (nullable = true)\n",
      " |-- is_ftp_login: integer (nullable = true)\n",
      " |-- ct_ftp_cmd: integer (nullable = true)\n",
      " |-- ct_srv_src: integer (nullable = true)\n",
      " |-- ct_srv_dst: integer (nullable = true)\n",
      " |-- ct_dst_ltm: integer (nullable = true)\n",
      " |-- ct_src_ltm: integer (nullable = true)\n",
      " |-- ct_src_dport_ltm: integer (nullable = true)\n",
      " |-- ct_dst_sport_ltm: integer (nullable = true)\n",
      " |-- ct_dst_src_ltm: integer (nullable = true)\n",
      " |-- attack_cat: string (nullable = false)\n",
      " |-- label: integer (nullable = true)\n",
      "\n",
      "✅ Data type conversion successful.\n"
     ]
    }
   ],
   "source": [
    "# Converting data types\n",
    "try:\n",
    "    # defining columns that should be integers/floats\n",
    "    int_cols = [\"sport\", \"dsport\", \"sttl\", \"dttl\", \"spkts\", \"dpkts\", \"ct_state_ttl\", \"ct_flw_http_mthd\", \"is_ftp_login\", \"ct_ftp_cmd\",\n",
    "            \"ct_srv_src\", \"ct_srv_dst\", \"ct_dst_ltm\", \"ct_src_ltm\", \"ct_src_dport_ltm\", \"ct_dst_sport_ltm\", \"ct_dst_src_ltm\", \"label\"]\n",
    "    float_cols = [\"dur\", \"sbytes\", \"dbytes\", \"sload\", \"dload\", \"sjit\", \"djit\", \"stime\", \"ltime\", \"sintpkt\", \"dintpkt\", \"tcprtt\", \"synack\", \"ackdat\"]\n",
    "    \n",
    "    # converting to IntegerType\n",
    "    for col_name in int_cols:\n",
    "        all_data = all_data.withColumn(col_name, col(col_name).cast(IntegerType()))\n",
    "    # converting to FloatType\n",
    "    for col_name in float_cols:\n",
    "        all_data = all_data.withColumn(col_name, col(col_name).cast(FloatType()))\n",
    "    \n",
    "    all_data.printSchema()\n",
    "    print(\"✅ Data type conversion successful.\")\n",
    "except Exception as e:\n",
    "    print(\"❌ Error in data type conversion:\", e)\n",
    "    raise\n"
   ]
  },
  {
   "cell_type": "code",
   "execution_count": 10,
   "metadata": {},
   "outputs": [
    {
     "name": "stdout",
     "output_type": "stream",
     "text": [
      "Training data count: 489778\n",
      "Test data count: 210223\n"
     ]
    }
   ],
   "source": [
    "# spliting into train (70%) and test (30%)\n",
    "train_data, test_data = all_data.randomSplit([0.7, 0.3], seed=16)\n",
    "\n",
    "print(\"Training data count:\", train_data.count())\n",
    "print(\"Test data count:\", test_data.count())"
   ]
  },
  {
   "cell_type": "code",
   "execution_count": 11,
   "metadata": {},
   "outputs": [
    {
     "name": "stdout",
     "output_type": "stream",
     "text": [
      "+-----+-----+-----+------+-----+-----+---+------+------+----+----+-----+-----+-------+-----+-----+-----+-----+----+----+-----+-----+-------+-------+-----------+-----------+----+----+-----+-----+-------+-------+------+------+------+---------------+------------+----------------+------------+----------+----------+----------+----------+----------+----------------+----------------+--------------+----------+-----+\n",
      "|srcip|sport|dstip|dsport|proto|state|dur|sbytes|dbytes|sttl|dttl|sloss|dloss|service|sload|dload|spkts|dpkts|swin|dwin|stcpb|dtcpb|smeansz|dmeansz|trans_depth|res_bdy_len|sjit|djit|stime|ltime|sintpkt|dintpkt|tcprtt|synack|ackdat|is_sm_ips_ports|ct_state_ttl|ct_flw_http_mthd|is_ftp_login|ct_ftp_cmd|ct_srv_src|ct_srv_dst|ct_dst_ltm|ct_src_ltm|ct_src_dport_ltm|ct_dst_sport_ltm|ct_dst_src_ltm|attack_cat|label|\n",
      "+-----+-----+-----+------+-----+-----+---+------+------+----+----+-----+-----+-------+-----+-----+-----+-----+----+----+-----+-----+-------+-------+-----------+-----------+----+----+-----+-----+-------+-------+------+------+------+---------------+------------+----------------+------------+----------+----------+----------+----------+----------+----------------+----------------+--------------+----------+-----+\n",
      "|    0|    0|    0|     0|    0|    0|  0|     0|     0|   0|   0|    0|    0|      0|    0|    0|    0|    0|   0|   0|    0|    0|      0|      0|          0|          0|   0|   0|    0|    0|      0|      0|     0|     0|     0|              0|           0|               0|           0|         0|         0|         0|         0|         0|               0|               0|             0|         0|    0|\n",
      "+-----+-----+-----+------+-----+-----+---+------+------+----+----+-----+-----+-------+-----+-----+-----+-----+----+----+-----+-----+-------+-------+-----------+-----------+----+----+-----+-----+-------+-------+------+------+------+---------------+------------+----------------+------------+----------+----------+----------+----------+----------+----------------+----------------+--------------+----------+-----+\n",
      "\n"
     ]
    }
   ],
   "source": [
    "# filling missing values for categorical columns before StringIndexer\n",
    "train_data = train_data.fillna({'proto': 'unknown', 'state': 'unknown', 'service': 'unknown'})\n",
    "test_data = test_data.fillna({'proto': 'unknown', 'state': 'unknown', 'service': 'unknown'})\n",
    "    \n",
    "# filling missing values for numerical columns with zero\n",
    "train_data = train_data.fillna(0)\n",
    "test_data = test_data.fillna(0)\n",
    "\n",
    "# verifying if there are still any nulls\n",
    "null_counts = train_data.select([count(when(col(c).isNull(), c)).alias(c) for c in train_data.columns])\n",
    "null_counts.show()"
   ]
  },
  {
   "cell_type": "code",
   "execution_count": 12,
   "metadata": {},
   "outputs": [],
   "source": [
    "# handleInvalid=\"keep\", any values in the input that are not \"seen before\"\n",
    "# (i.e., the new or unknown categories) are assigned a specific index value\n",
    "# instead of causing an error.\n",
    "indexers = [\n",
    "    StringIndexer(inputCol=\"proto\", outputCol=\"proto_index\", handleInvalid=\"keep\"),\n",
    "    StringIndexer(inputCol=\"state\", outputCol=\"state_index\", handleInvalid=\"keep\"),\n",
    "    StringIndexer(inputCol=\"service\", outputCol=\"service_index\", handleInvalid=\"keep\")\n",
    "]\n",
    "\n",
    "# indexing categorical columns\n",
    "pipeline = Pipeline(stages=indexers)\n",
    "train_data = pipeline.fit(train_data).transform(train_data)\n",
    "test_data = pipeline.fit(test_data).transform(test_data)\n",
    "\n",
    "# deleting original categorical columns, indexer has already transformed them into numerical columns\n",
    "train_data = train_data.drop(\"proto\", \"state\", \"service\")\n",
    "test_data = test_data.drop(\"proto\", \"state\", \"service\")\n"
   ]
  },
  {
   "cell_type": "code",
   "execution_count": 13,
   "metadata": {},
   "outputs": [
    {
     "name": "stdout",
     "output_type": "stream",
     "text": [
      "+-----------------------------------------------------------------------------------------------------------------------------------------------------------+-----+\n",
      "|features                                                                                                                                                   |label|\n",
      "+-----------------------------------------------------------------------------------------------------------------------------------------------------------+-----+\n",
      "|(45,[3,11,17,23,24,30,31,35,36,37,38,39,40,41,42,43],[46.0,1.0,46.0,1.421927424E9,1.421927424E9,1.0,2.0,2.0,2.0,2.0,2.0,2.0,2.0,2.0,2.0,2.0])              |0    |\n",
      "|(45,[3,11,17,23,24,30,31,35,36,37,38,39,40,41,42,43],[46.0,1.0,46.0,1.421927424E9,1.421927424E9,1.0,2.0,2.0,2.0,2.0,2.0,2.0,2.0,2.0,2.0,2.0])              |0    |\n",
      "|(45,[3,11,17,23,24,25,30,31,35,36,37,38,39,40,41,42,43],[46.0,1.0,46.0,1.421927552E9,1.421927552E9,60000.6875,1.0,2.0,2.0,2.0,2.0,2.0,2.0,2.0,2.0,2.0,2.0])|0    |\n",
      "|(45,[3,11,17,23,24,25,30,31,35,36,37,38,39,40,41,42,43],[46.0,1.0,46.0,1.421927552E9,1.421927552E9,60000.6875,1.0,2.0,2.0,2.0,2.0,2.0,2.0,2.0,2.0,2.0,2.0])|0    |\n",
      "|(45,[3,11,17,23,24,25,30,31,35,36,37,38,39,40,41,42,43],[46.0,1.0,46.0,1.42192768E9,1.42192768E9,60000.6875,1.0,2.0,2.0,2.0,2.0,2.0,2.0,2.0,2.0,2.0,2.0])  |0    |\n",
      "+-----------------------------------------------------------------------------------------------------------------------------------------------------------+-----+\n",
      "only showing top 5 rows\n",
      "\n",
      "+--------------------------------------------------------------------------------------------------------------------------------------------------------------+-----+\n",
      "|features                                                                                                                                                      |label|\n",
      "+--------------------------------------------------------------------------------------------------------------------------------------------------------------+-----+\n",
      "|(45,[3,11,17,23,24,25,30,31,35,36,37,38,39,40,41,42,43],[46.0,1.0,46.0,1.42192768E9,1.42192768E9,60000.6875,1.0,2.0,2.0,2.0,2.0,2.0,2.0,2.0,2.0,2.0,2.0])     |0    |\n",
      "|(45,[3,11,17,23,24,25,30,31,35,36,37,38,39,40,41,42,43],[46.0,1.0,46.0,1.421927936E9,1.421927936E9,60000.6953125,1.0,2.0,2.0,2.0,2.0,2.0,2.0,2.0,2.0,2.0,2.0])|0    |\n",
      "|(45,[3,11,17,23,24,25,30,31,35,36,37,38,39,40,41,42,43],[46.0,1.0,46.0,1.421928576E9,1.421928576E9,60000.734375,1.0,2.0,2.0,2.0,2.0,2.0,2.0,2.0,2.0,2.0,2.0]) |0    |\n",
      "|(45,[3,11,17,23,24,25,30,31,35,36,37,38,39,40,41,42,43],[46.0,1.0,46.0,1.421929088E9,1.421929088E9,60000.7265625,1.0,2.0,2.0,2.0,2.0,2.0,2.0,2.0,2.0,2.0,2.0])|0    |\n",
      "|(45,[3,11,17,23,24,25,30,31,35,36,37,38,39,40,41,42,43],[46.0,1.0,46.0,1.421929472E9,1.421929472E9,60000.6875,1.0,2.0,2.0,2.0,2.0,2.0,2.0,2.0,2.0,2.0,2.0])   |0    |\n",
      "+--------------------------------------------------------------------------------------------------------------------------------------------------------------+-----+\n",
      "only showing top 5 rows\n",
      "\n"
     ]
    }
   ],
   "source": [
    "# selecting only numerical and indexed categorical columns\n",
    "feature_cols = [col for col in train_data.columns if col not in ['srcip', 'dstip', 'attack_cat', 'label']]\n",
    "\n",
    "# assembling features into a single vector\n",
    "assembler = VectorAssembler(inputCols=feature_cols, outputCol=\"features\")\n",
    "train_data = assembler.transform(train_data)\n",
    "test_data = assembler.transform(test_data)\n",
    "\n",
    "# new data structure\n",
    "train_data.select(\"features\", \"label\").show(5, truncate=False)\n",
    "test_data.select(\"features\", \"label\").show(5, truncate=False)\n"
   ]
  },
  {
   "cell_type": "code",
   "execution_count": 14,
   "metadata": {},
   "outputs": [
    {
     "name": "stdout",
     "output_type": "stream",
     "text": [
      "proto_index: 135 unique values\n",
      "state_index: 16 unique values\n",
      "service_index: 13 unique values\n"
     ]
    }
   ],
   "source": [
    "# counting the number of unique feature to set maxBins for Decision Tree\n",
    "for col_name in [\"proto_index\", \"state_index\", \"service_index\"]:\n",
    "    if col_name in train_data.columns:  # check if column exists\n",
    "        unique_count = train_data.select(col_name).distinct().count()\n",
    "        print(f\"{col_name}: {unique_count} unique values\")"
   ]
  },
  {
   "cell_type": "code",
   "execution_count": 15,
   "metadata": {},
   "outputs": [
    {
     "name": "stdout",
     "output_type": "stream",
     "text": [
      "Decision Tree Accuracy: 0.9948\n",
      "Precision: 0.9948\n",
      "Recall: 0.9948\n",
      "F1-score: 0.9947\n",
      "+--------------------------------------------------------------------------------------------------------------------------------------------------------------+-----+----------+\n",
      "|features                                                                                                                                                      |label|prediction|\n",
      "+--------------------------------------------------------------------------------------------------------------------------------------------------------------+-----+----------+\n",
      "|(45,[3,11,17,23,24,25,30,31,35,36,37,38,39,40,41,42,43],[46.0,1.0,46.0,1.42192768E9,1.42192768E9,60000.6875,1.0,2.0,2.0,2.0,2.0,2.0,2.0,2.0,2.0,2.0,2.0])     |0    |0.0       |\n",
      "|(45,[3,11,17,23,24,25,30,31,35,36,37,38,39,40,41,42,43],[46.0,1.0,46.0,1.421927936E9,1.421927936E9,60000.6953125,1.0,2.0,2.0,2.0,2.0,2.0,2.0,2.0,2.0,2.0,2.0])|0    |0.0       |\n",
      "|(45,[3,11,17,23,24,25,30,31,35,36,37,38,39,40,41,42,43],[46.0,1.0,46.0,1.421928576E9,1.421928576E9,60000.734375,1.0,2.0,2.0,2.0,2.0,2.0,2.0,2.0,2.0,2.0,2.0]) |0    |0.0       |\n",
      "|(45,[3,11,17,23,24,25,30,31,35,36,37,38,39,40,41,42,43],[46.0,1.0,46.0,1.421929088E9,1.421929088E9,60000.7265625,1.0,2.0,2.0,2.0,2.0,2.0,2.0,2.0,2.0,2.0,2.0])|0    |0.0       |\n",
      "|(45,[3,11,17,23,24,25,30,31,35,36,37,38,39,40,41,42,43],[46.0,1.0,46.0,1.421929472E9,1.421929472E9,60000.6875,1.0,2.0,2.0,2.0,2.0,2.0,2.0,2.0,2.0,2.0,2.0])   |0    |0.0       |\n",
      "+--------------------------------------------------------------------------------------------------------------------------------------------------------------+-----+----------+\n",
      "only showing top 5 rows\n",
      "\n"
     ]
    }
   ],
   "source": [
    "# Train Decision Tree Model\n",
    "try:\n",
    "    dt = DecisionTreeClassifier(labelCol=\"label\", featuresCol=\"features\", maxBins=136)\n",
    "    dt_model = dt.fit(train_data)\n",
    "    predictions = dt_model.transform(test_data)\n",
    "except Exception as e:\n",
    "    print(\"❌ Error in Decision Tree Model:\", str(e))\n",
    "\n",
    "# Evaluating the model\n",
    "evaluator = MulticlassClassificationEvaluator(labelCol=\"label\", predictionCol=\"prediction\", metricName=\"accuracy\")\n",
    "accuracy = evaluator.evaluate(predictions)\n",
    "\n",
    "# Precision, Recall, and F1-score\n",
    "precision_evaluator = MulticlassClassificationEvaluator(labelCol=\"label\", predictionCol=\"prediction\", metricName=\"weightedPrecision\")\n",
    "recall_evaluator = MulticlassClassificationEvaluator(labelCol=\"label\", predictionCol=\"prediction\", metricName=\"weightedRecall\")\n",
    "f1_evaluator = MulticlassClassificationEvaluator(labelCol=\"label\", predictionCol=\"prediction\", metricName=\"f1\")\n",
    "\n",
    "precision = precision_evaluator.evaluate(predictions)\n",
    "recall = recall_evaluator.evaluate(predictions)\n",
    "f1_score = f1_evaluator.evaluate(predictions)\n",
    "\n",
    "# Print results\n",
    "print(f\"Decision Tree Accuracy: {accuracy:.4f}\")\n",
    "print(f\"Precision: {precision:.4f}\")\n",
    "print(f\"Recall: {recall:.4f}\")\n",
    "print(f\"F1-score: {f1_score:.4f}\")\n",
    "\n",
    "# Show some sample predictions\n",
    "predictions.select(\"features\", \"label\", \"prediction\").show(5, truncate=False)\n"
   ]
  },
  {
   "cell_type": "markdown",
   "metadata": {},
   "source": [
    "## Interpretation: Training vs Test\n",
    "\n",
    "- The training and test scores are nearly identical, suggesting that the model generalizes well and is not overfitting to the training data.\n",
    "- A precision of 0.9944 (train) and 0.9946 (test) means that the model is making very few false positive predictions.\n",
    "- A recall of 0.9945 (train) and 0.9947 (test) indicates that the model is successfully identifying most of the actual positive cases.\n",
    "- The F1-score, which balances precision and recall, is also consistently high.\n",
    "\n"
   ]
  },
  {
   "cell_type": "markdown",
   "metadata": {},
   "source": [
    "Due to metrics being extremly high, we suspected overfitting.\n",
    "So we decided to evaluate trainig data."
   ]
  },
  {
   "cell_type": "code",
   "execution_count": 16,
   "metadata": {},
   "outputs": [
    {
     "name": "stdout",
     "output_type": "stream",
     "text": [
      "Training Metrics\n",
      "🔹 Training Accuracy: 0.9948\n",
      "🔹 Training Precision: 0.9947\n",
      "🔹 Training Recall: 0.9948\n",
      "🔹 Training F1-score: 0.9946\n",
      "Test Metrics\n",
      "🔹 Test Accuracy: 0.9948\n",
      "🔹 Test Precision: 0.9948\n",
      "🔹 Test Recall: 0.9948\n",
      "🔹 Test F1-score: 0.9947\n"
     ]
    }
   ],
   "source": [
    "# Evaluate model on training data\n",
    "train_predictions = dt_model.transform(train_data)\n",
    "\n",
    "train_accuracy = evaluator.evaluate(train_predictions)\n",
    "train_precision = precision_evaluator.evaluate(train_predictions)\n",
    "train_recall = recall_evaluator.evaluate(train_predictions)\n",
    "train_f1_score = f1_evaluator.evaluate(train_predictions)\n",
    "\n",
    "print(f\"Training Metrics\")\n",
    "print(f\"🔹 Training Accuracy: {train_accuracy:.4f}\")\n",
    "print(f\"🔹 Training Precision: {train_precision:.4f}\")\n",
    "print(f\"🔹 Training Recall: {train_recall:.4f}\")\n",
    "print(f\"🔹 Training F1-score: {train_f1_score:.4f}\")\n",
    "\n",
    "# Evaluate model on test data (Already computed before)\n",
    "print(f\"Test Metrics\")\n",
    "print(f\"🔹 Test Accuracy: {accuracy:.4f}\")\n",
    "print(f\"🔹 Test Precision: {precision:.4f}\")\n",
    "print(f\"🔹 Test Recall: {recall:.4f}\")\n",
    "print(f\"🔹 Test F1-score: {f1_score:.4f}\")\n"
   ]
  },
  {
   "cell_type": "code",
   "execution_count": 17,
   "metadata": {},
   "outputs": [
    {
     "data": {
      "image/png": "[encoded data removed]",
      "text/plain": [
       "<Figure size 576x360 with 1 Axes>"
      ]
     },
     "metadata": {
      "needs_background": "light"
     },
     "output_type": "display_data"
    }
   ],
   "source": [
    "# Define metric names\n",
    "metrics = [\"Accuracy\", \"Precision\", \"Recall\", \"F1-score\"]\n",
    "\n",
    "# Training metrics\n",
    "train_values = [train_accuracy, train_precision, train_recall, train_f1_score]\n",
    "\n",
    "# Test metrics (from previously computed values)\n",
    "test_values = [accuracy, precision, recall, f1_score]\n",
    "\n",
    "# X locations for the bars\n",
    "x = np.arange(len(metrics))\n",
    "bar_width = 0.35  # Width of the bars\n",
    "\n",
    "\n",
    "# Create bar chart\n",
    "plt.figure(figsize=(8, 5))\n",
    "plt.bar(x - bar_width/2, train_values, bar_width, label=\"Training\", color=\"blue\")\n",
    "plt.bar(x + bar_width/2, test_values, bar_width, label=\"Test\", color=\"orange\")\n",
    "\n",
    "\n",
    "# Adjust y-axis to make differences more visible\n",
    "plt.ylim(0.9940, 0.9950)  # Setting a narrow range to enhance granularity\n",
    "\n",
    "# Add labels and title\n",
    "plt.xlabel(\"Metric\")\n",
    "plt.ylabel(\"Score\")\n",
    "plt.title(\"Training vs Test Metrics\")\n",
    "plt.xticks(x, metrics)  # Set x-axis labels to metric names\n",
    "plt.legend()\n",
    "\n",
    "# Show the plot\n",
    "plt.show()"
   ]
  },
  {
   "cell_type": "markdown",
   "metadata": {},
   "source": [
    "## Feature Importance Interpretation:\n",
    "\n",
    "- The model primarily relies on **\"sbytes\"** with an importance of **0.8800**, indicating that the size of the transmitted bytes is the most significant factor in predicting attacks.\n",
    "- **\"sport\" (Source Port)**, **\"ct_dst_src_ltm\"**, and **\"ct_ftp_cmd\"** are also relatively important, with values of **0.0622**, **0.0265**, and **0.0167** respectively.\n",
    "- **\"srcip\" (Source IP)** and **\"dstip\" (Destination IP)**, despite being key identifiers, have **minimal impact**, with their importance values close to **0**.\n",
    "- Features like **\"sloss\" (Packet Loss)** and **\"dsport\" (Destination Port)** have **very little contribution** with importance scores as low as **0.0002** and **0.0004**.\n"
   ]
  },
  {
   "cell_type": "code",
   "execution_count": 18,
   "metadata": {},
   "outputs": [
    {
     "name": "stdout",
     "output_type": "stream",
     "text": [
      "📊 Top 10 Important Features:\n",
      "1. sbytes: 0.8800\n",
      "2. sport: 0.0622\n",
      "3. ct_dst_src_ltm: 0.0265\n",
      "4. ct_ftp_cmd: 0.0167\n",
      "5. dtcpb: 0.0088\n",
      "6. ct_dst_sport_ltm: 0.0052\n",
      "7. dsport: 0.0004\n",
      "8. sloss: 0.0002\n",
      "9. srcip: 0.0000\n",
      "10. dstip: 0.0000\n"
     ]
    },
    {
     "data": {
      "image/png": "[encoded data removed]",
      "text/plain": [
       "<Figure size 720x432 with 1 Axes>"
      ]
     },
     "metadata": {
      "needs_background": "light"
     },
     "output_type": "display_data"
    }
   ],
   "source": [
    "# Feature importance scores\n",
    "try:\n",
    "    feature_importance = dt_model.featureImportances\n",
    "\n",
    "    # converting feature importance into a dictionary (Feature Name -> Importance Score)\n",
    "    feature_names = [col for col in train_data.columns if col not in ['features', 'label']]\n",
    "    feature_importance_dict = {feature_names[i]: importance for i, importance in enumerate(feature_importance)}\n",
    "\n",
    "    # sorting by importance\n",
    "    sorted_features = sorted(feature_importance_dict.items(), key=lambda x: x[1], reverse=True)\n",
    "\n",
    "    # top 10 most important features\n",
    "    print(\"📊 Top 10 Important Features:\")\n",
    "    top_features = sorted_features[:10]\n",
    "    for i, (feature, importance) in enumerate(top_features):\n",
    "        print(f\"{i+1}. {feature}: {importance:.4f}\")\n",
    "        \n",
    "    # Visualization of top 10 important features\n",
    "    plt.figure(figsize=(10, 6))\n",
    "    features = [x[0] for x in top_features]\n",
    "    importances = [x[1] for x in top_features]\n",
    "    plt.barh(features, importances, color='skyblue')\n",
    "    plt.xlabel('Importance Score')\n",
    "    plt.ylabel('Feature')\n",
    "    plt.title('Top 10 Important Features')\n",
    "    plt.gca().invert_yaxis() # To display the most important feature on top\n",
    "    plt.show()\n",
    "    \n",
    "except Exception as e:\n",
    "    print(\"❌ An error occurred while calculating feature importance:\", str(e))    "
   ]
  },
  {
   "cell_type": "markdown",
   "metadata": {},
   "source": [
    "The model identified the following features as the most important for predicting network traffic types:\n",
    "\n",
    "- sbytes (0.8800): The source bytes, indicating the amount of data sent from the source, is the most influential feature, significantly affecting the model's predictions.\n",
    "- sport (0.0622): The source port number, which helps identify the service or application initiating the communication, is the second most important feature.\n",
    "ct_dst_src_ltm (0.0265): The count of connections to the destination source in the last minute, a metric reflecting traffic patterns."
   ]
  },
  {
   "cell_type": "code",
   "execution_count": 19,
   "metadata": {},
   "outputs": [
    {
     "data": {
      "image/png": "[encoded data removed]",
      "text/plain": [
       "<Figure size 576x360 with 1 Axes>"
      ]
     },
     "metadata": {
      "needs_background": "light"
     },
     "output_type": "display_data"
    }
   ],
   "source": [
    "# Extract top 10 features and their importance scores\n",
    "top_n = 10\n",
    "top_features = [feature for feature, importance in sorted_features[:top_n]]\n",
    "top_importance_scores = [importance for feature, importance in sorted_features[:top_n]]\n",
    "\n",
    "# Create a horizontal bar chart\n",
    "plt.figure(figsize=(8, 5))\n",
    "plt.barh(top_features[::-1], top_importance_scores[::-1])  # Reverse order for better visualization\n",
    "\n",
    "# Add labels and title\n",
    "plt.xlabel(\"Importance Score\")\n",
    "plt.ylabel(\"Feature\")\n",
    "plt.title(\"Top 10 Important Features\")\n",
    "\n",
    "# Display the chart\n",
    "plt.show()"
   ]
  },
  {
   "cell_type": "code",
   "execution_count": 20,
   "metadata": {},
   "outputs": [
    {
     "name": "stdout",
     "output_type": "stream",
     "text": [
      "🌲 Random Forest Accuracy: 0.9973\n",
      "🌲 Precision: 0.9974\n",
      "🌲 Recall: 0.9973\n",
      "🌲 F1-score: 0.9974\n",
      "+--------------------------------------------------------------------------------------------------------------------------------------------------------------+-----+----------+\n",
      "|features                                                                                                                                                      |label|prediction|\n",
      "+--------------------------------------------------------------------------------------------------------------------------------------------------------------+-----+----------+\n",
      "|(45,[3,11,17,23,24,25,30,31,35,36,37,38,39,40,41,42,43],[46.0,1.0,46.0,1.42192768E9,1.42192768E9,60000.6875,1.0,2.0,2.0,2.0,2.0,2.0,2.0,2.0,2.0,2.0,2.0])     |0    |0.0       |\n",
      "|(45,[3,11,17,23,24,25,30,31,35,36,37,38,39,40,41,42,43],[46.0,1.0,46.0,1.421927936E9,1.421927936E9,60000.6953125,1.0,2.0,2.0,2.0,2.0,2.0,2.0,2.0,2.0,2.0,2.0])|0    |0.0       |\n",
      "|(45,[3,11,17,23,24,25,30,31,35,36,37,38,39,40,41,42,43],[46.0,1.0,46.0,1.421928576E9,1.421928576E9,60000.734375,1.0,2.0,2.0,2.0,2.0,2.0,2.0,2.0,2.0,2.0,2.0]) |0    |0.0       |\n",
      "|(45,[3,11,17,23,24,25,30,31,35,36,37,38,39,40,41,42,43],[46.0,1.0,46.0,1.421929088E9,1.421929088E9,60000.7265625,1.0,2.0,2.0,2.0,2.0,2.0,2.0,2.0,2.0,2.0,2.0])|0    |0.0       |\n",
      "|(45,[3,11,17,23,24,25,30,31,35,36,37,38,39,40,41,42,43],[46.0,1.0,46.0,1.421929472E9,1.421929472E9,60000.6875,1.0,2.0,2.0,2.0,2.0,2.0,2.0,2.0,2.0,2.0,2.0])   |0    |0.0       |\n",
      "+--------------------------------------------------------------------------------------------------------------------------------------------------------------+-----+----------+\n",
      "only showing top 5 rows\n",
      "\n"
     ]
    }
   ],
   "source": [
    "try:\n",
    "    # Initialize Random Forest Classifier\n",
    "    rf = RandomForestClassifier(labelCol=\"label\", featuresCol=\"features\", numTrees=50, maxDepth=10, maxBins=136, seed=42)\n",
    "\n",
    "    # Train the Random Forest model\n",
    "    rf_model = rf.fit(train_data)\n",
    "\n",
    "    # Make predictions on test data\n",
    "    rf_predictions = rf_model.transform(test_data)\n",
    "    \n",
    "except Exception as e:\n",
    "    print(\"❌ An error occurred during Random Forest training or evaluation:\", str(e))\n",
    "\n",
    "# Evaluate the Random Forest Model\n",
    "rf_accuracy = evaluator.evaluate(rf_predictions)\n",
    "rf_precision = precision_evaluator.evaluate(rf_predictions)\n",
    "rf_recall = recall_evaluator.evaluate(rf_predictions)\n",
    "rf_f1_score = f1_evaluator.evaluate(rf_predictions)\n",
    "\n",
    "# Print results\n",
    "print(f\"🌲 Random Forest Accuracy: {rf_accuracy:.4f}\")\n",
    "print(f\"🌲 Precision: {rf_precision:.4f}\")\n",
    "print(f\"🌲 Recall: {rf_recall:.4f}\")\n",
    "print(f\"🌲 F1-score: {rf_f1_score:.4f}\")\n",
    "\n",
    "# Show some sample predictions\n",
    "rf_predictions.select(\"features\", \"label\", \"prediction\").show(5, truncate=False)\n"
   ]
  },
  {
   "cell_type": "markdown",
   "metadata": {},
   "source": [
    "Calculating False Alarm Rate (FAR) for the given predictions.\n",
    "FAR is the average of False Positive Rate (FPR) and False Negative Rate (FNR)."
   ]
  },
  {
   "cell_type": "code",
   "execution_count": 21,
   "metadata": {},
   "outputs": [],
   "source": [
    "def false_alarm_rate(predictions):\n",
    " \n",
    "    # Computing confusion matrix components: True Positives (TP), True Negatives (TN),\n",
    "    # False Positives (FP), and False Negatives (FN)\n",
    "    metrics = predictions.select(\n",
    "        count(when((col(\"label\") == 1) & (col(\"prediction\") == 1), 1)).alias(\"TP\"),  # True Positives\n",
    "        count(when((col(\"label\") == 0) & (col(\"prediction\") == 0), 1)).alias(\"TN\"),  # True Negatives\n",
    "        count(when((col(\"label\") == 0) & (col(\"prediction\") == 1), 1)).alias(\"FP\"),  # False Positives\n",
    "        count(when((col(\"label\") == 1) & (col(\"prediction\") == 0), 1)).alias(\"FN\")   # False Negatives\n",
    "    ).collect()[0]  # Collecting results into a single row object\n",
    "\n",
    "    # Extracting individual counts from the collected object\n",
    "    TP, TN, FP, FN = metrics.TP, metrics.TN, metrics.FP, metrics.FN\n",
    "\n",
    "    # False Positive Rate while avoiding division by zero\n",
    "    FPR = FP / (FP + TN) if (FP + TN) > 0 else 0\n",
    "    # False Negative Rate while avoiding division by zero\n",
    "    FNR = FN / (FN + TP) if (FN + TP) > 0 else 0\n",
    "\n",
    "    # False Alarm Rate as the average of FPR and FNR\n",
    "    FAR = (FPR + FNR) / 2  \n",
    "    return FAR"
   ]
  },
  {
   "cell_type": "code",
   "execution_count": 22,
   "metadata": {},
   "outputs": [
    {
     "name": "stdout",
     "output_type": "stream",
     "text": [
      "🌳 Decision Tree False Alarm Rate (FAR): 0.0723\n",
      "🌲 Random Forest False Alarm Rate (FAR): 0.0117\n"
     ]
    }
   ],
   "source": [
    "try:\n",
    "    # Get predictions from both models\n",
    "    dt_predictions = dt_model.transform(test_data)\n",
    "    rf_predictions = rf_model.transform(test_data)\n",
    "\n",
    "    # Compute FAR for both models\n",
    "    dt_far = false_alarm_rate(dt_predictions)\n",
    "    rf_far = false_alarm_rate(rf_predictions)\n",
    "\n",
    "    # Print results\n",
    "    print(f\"🌳 Decision Tree False Alarm Rate (FAR): {dt_far:.4f}\")\n",
    "    print(f\"🌲 Random Forest False Alarm Rate (FAR): {rf_far:.4f}\")\n",
    "\n",
    "except Exception as e:\n",
    "    print(\"❌ An error occurred while computing False Alarm Rates (FAR):\", str(e))"
   ]
  },
  {
   "cell_type": "code",
   "execution_count": 23,
   "metadata": {},
   "outputs": [
    {
     "data": {
      "image/png": "[encoded data removed]",
      "text/plain": [
       "<Figure size 432x288 with 2 Axes>"
      ]
     },
     "metadata": {
      "needs_background": "light"
     },
     "output_type": "display_data"
    },
    {
     "name": "stdout",
     "output_type": "stream",
     "text": [
      "✅ Confusion matrix displayed successfully.\n"
     ]
    }
   ],
   "source": [
    "# Confusion matrix\n",
    "try:\n",
    "    y_true = [row[\"label\"] for row in test_data.select(\"label\").collect()]\n",
    "    y_pred = [row[\"prediction\"] for row in predictions.select(\"prediction\").collect()]\n",
    "\n",
    "    unique_labels = sorted(set(y_true))  # Dynamically get label names\n",
    "    cm = confusion_matrix(y_true, y_pred)\n",
    "\n",
    "    plt.figure(figsize=(6, 4))\n",
    "    sns.heatmap(cm, annot=True, fmt='d', cmap='Blues', xticklabels=unique_labels, yticklabels=unique_labels)\n",
    "    plt.xlabel(\"Predicted\")\n",
    "    plt.ylabel(\"Actual\")\n",
    "    plt.title(\"Confusion Matrix\")\n",
    "    plt.show()\n",
    "\n",
    "    print(\"✅ Confusion matrix displayed successfully.\")\n",
    "except Exception as e:\n",
    "    print(f\"❌ Error generating confusion matrix: {e}\")\n",
    "\n"
   ]
  },
  {
   "cell_type": "markdown",
   "metadata": {},
   "source": [
    "## Interpretation: Confusion Matrix\n",
    "\n",
    "- **203,486 normal traffic instances** were correctly classified (**True Negatives**), meaning the model rarely flags safe connections as attacks.\n",
    "- **Only 133 normal traffic instances** were misclassified as attacks (**False Positives**), which indicates a **low false alarm rate**.\n",
    "- **5,657 attack instances** were correctly detected (**True Positives**), but **947 attacks were misclassified as normal** (**False Negatives**).\n",
    "- A **false negative rate of ~15%** suggests that some attacks remain undetected, which could be risky in a real-world intrusion detection system.\n"
   ]
  },
  {
   "cell_type": "code",
   "execution_count": 24,
   "metadata": {},
   "outputs": [],
   "source": [
    "# Standardize Features ONLY for Linear Regression\n",
    "scaler = StandardScaler(inputCol=\"features\", outputCol=\"features_scaled\")\n",
    "scaler_model = scaler.fit(train_data)\n",
    "\n",
    "train_data_lr = scaler_model.transform(train_data).select(\"features_scaled\", \"label\").withColumnRenamed(\"features_scaled\", \"features\")\n",
    "test_data_lr = scaler_model.transform(test_data).select(\"features_scaled\", \"label\").withColumnRenamed(\"features_scaled\", \"features\")"
   ]
  },
  {
   "cell_type": "code",
   "execution_count": 25,
   "metadata": {},
   "outputs": [
    {
     "name": "stdout",
     "output_type": "stream",
     "text": [
      "🔹 Linear Regression RMSE: 0.1286\n",
      "🔹 Linear Regression R²: 0.4565\n"
     ]
    }
   ],
   "source": [
    "try:\n",
    "    # Linear Regression Model\n",
    "    lr = LinearRegression(labelCol=\"label\", maxIter=10000, regParam=0.1, elasticNetParam=0.8)\n",
    "    \n",
    "    # Training\n",
    "    lr_model = lr.fit(train_data)\n",
    "    \n",
    "    # Predictions on test data\n",
    "    lr_predictions = lr_model.transform(test_data)\n",
    "    \n",
    "    # Evaluating\n",
    "    lr_evaluator = RegressionEvaluator(labelCol=\"label\", predictionCol=\"prediction\", metricName=\"rmse\")\n",
    "    rmse = lr_evaluator.evaluate(lr_predictions)\n",
    "    \n",
    "    # Check if model summary exists\n",
    "    r2 = lr_model.summary.r2 if hasattr(lr_model, \"summary\") else None\n",
    "\n",
    "    print(f\"🔹 Linear Regression RMSE: {rmse:.4f}\")\n",
    "    if r2 is not None:\n",
    "        print(f\"🔹 Linear Regression R²: {r2:.4f}\")\n",
    "    else:\n",
    "        print(\"Warning: R² score could not be computed.\")\n",
    "\n",
    "except Exception as e:\n",
    "    print(f\"❌ An error occurred during Linear Regression: {str(e)}\")\n"
   ]
  },
  {
   "cell_type": "code",
   "execution_count": 26,
   "metadata": {},
   "outputs": [
    {
     "name": "stdout",
     "output_type": "stream",
     "text": [
      "🌍 Naïve Bayes Accuracy: 0.6288\n",
      "🌍 Naïve Bayes Precision: 0.9518\n",
      "🌍 Naïve Bayes Recall: 0.6288\n",
      "🌍 Naïve Bayes F1-score: 0.7454\n",
      "+--------------------------------------------------------------------------------------------------------------------------------------------------------------+-----------+----------+\n",
      "|features                                                                                                                                                      |label_index|prediction|\n",
      "+--------------------------------------------------------------------------------------------------------------------------------------------------------------+-----------+----------+\n",
      "|(45,[3,11,17,23,24,25,30,31,35,36,37,38,39,40,41,42,43],[46.0,1.0,46.0,1.42192768E9,1.42192768E9,60000.6875,1.0,2.0,2.0,2.0,2.0,2.0,2.0,2.0,2.0,2.0,2.0])     |0.0        |1.0       |\n",
      "|(45,[3,11,17,23,24,25,30,31,35,36,37,38,39,40,41,42,43],[46.0,1.0,46.0,1.421927936E9,1.421927936E9,60000.6953125,1.0,2.0,2.0,2.0,2.0,2.0,2.0,2.0,2.0,2.0,2.0])|0.0        |1.0       |\n",
      "|(45,[3,11,17,23,24,25,30,31,35,36,37,38,39,40,41,42,43],[46.0,1.0,46.0,1.421928576E9,1.421928576E9,60000.734375,1.0,2.0,2.0,2.0,2.0,2.0,2.0,2.0,2.0,2.0,2.0]) |0.0        |1.0       |\n",
      "|(45,[3,11,17,23,24,25,30,31,35,36,37,38,39,40,41,42,43],[46.0,1.0,46.0,1.421929088E9,1.421929088E9,60000.7265625,1.0,2.0,2.0,2.0,2.0,2.0,2.0,2.0,2.0,2.0,2.0])|0.0        |1.0       |\n",
      "|(45,[3,11,17,23,24,25,30,31,35,36,37,38,39,40,41,42,43],[46.0,1.0,46.0,1.421929472E9,1.421929472E9,60000.6875,1.0,2.0,2.0,2.0,2.0,2.0,2.0,2.0,2.0,2.0,2.0])   |0.0        |1.0       |\n",
      "+--------------------------------------------------------------------------------------------------------------------------------------------------------------+-----------+----------+\n",
      "only showing top 5 rows\n",
      "\n"
     ]
    }
   ],
   "source": [
    "try:\n",
    "    # Converting label to categorical format\n",
    "    if \"label\" not in train_data.columns or \"label\" not in test_data.columns:\n",
    "        raise ValueError(\"❌ Missing 'label' column in train or test data.\")\n",
    "    \n",
    "    indexer = StringIndexer(inputCol=\"label\", outputCol=\"label_index\")\n",
    "    train_data = indexer.fit(train_data).transform(train_data)\n",
    "    test_data = indexer.fit(test_data).transform(test_data)\n",
    "\n",
    "    # Initializing NB Model\n",
    "    nb = NaiveBayes(labelCol=\"label_index\", featuresCol=\"features\", modelType=\"multinomial\")\n",
    "\n",
    "    # Training\n",
    "    if train_data.count() == 0:\n",
    "        raise ValueError(\"❌ Training data is empty. Cannot train Naïve Bayes model.\")\n",
    "\n",
    "    nb_model = nb.fit(train_data)\n",
    "\n",
    "    # Predictions\n",
    "    if test_data.count() == 0:\n",
    "        raise ValueError(\"❌ Test data is empty. Cannot generate predictions.\")\n",
    "\n",
    "    nb_predictions = nb_model.transform(test_data)\n",
    "\n",
    "    # Evaluation\n",
    "    if \"label_index\" not in nb_predictions.columns or \"prediction\" not in nb_predictions.columns:\n",
    "        raise ValueError(\"❌ Predictions missing required columns: 'label_index' or 'prediction'.\")\n",
    "\n",
    "    nb_evaluator = MulticlassClassificationEvaluator(labelCol=\"label_index\", predictionCol=\"prediction\", metricName=\"accuracy\")\n",
    "    accuracy_evaluator = MulticlassClassificationEvaluator(labelCol=\"label_index\", predictionCol=\"prediction\", metricName=\"accuracy\")\n",
    "    precision_evaluator = MulticlassClassificationEvaluator(labelCol=\"label_index\", predictionCol=\"prediction\", metricName=\"weightedPrecision\")\n",
    "    recall_evaluator = MulticlassClassificationEvaluator(labelCol=\"label_index\", predictionCol=\"prediction\", metricName=\"weightedRecall\")\n",
    "    f1_evaluator = MulticlassClassificationEvaluator(labelCol=\"label_index\", predictionCol=\"prediction\", metricName=\"f1\")\n",
    "\n",
    "    nb_accuracy = accuracy_evaluator.evaluate(nb_predictions)\n",
    "    nb_precision = precision_evaluator.evaluate(nb_predictions)\n",
    "    nb_recall = recall_evaluator.evaluate(nb_predictions)\n",
    "    nb_f1_score = f1_evaluator.evaluate(nb_predictions)\n",
    "\n",
    "    print(f\"🌍 Naïve Bayes Accuracy: {nb_accuracy:.4f}\")\n",
    "    print(f\"🌍 Naïve Bayes Precision: {nb_precision:.4f}\")\n",
    "    print(f\"🌍 Naïve Bayes Recall: {nb_recall:.4f}\")\n",
    "    print(f\"🌍 Naïve Bayes F1-score: {nb_f1_score:.4f}\")\n",
    "\n",
    "    # Displaying some predictions\n",
    "    if nb_predictions.count() > 0:\n",
    "        nb_predictions.select(\"features\", \"label_index\", \"prediction\").show(5, truncate=False)\n",
    "    else:\n",
    "        print(\"Warning: No predictions available to display.\")\n",
    "\n",
    "except ValueError as ve:\n",
    "    print(f\"ValueError in Naïve Bayes Model: {str(ve)}\")\n",
    "\n",
    "except Exception as e:\n",
    "    print(f\"❌ Unexpected error in Naïve Bayes Model: {str(e)}\")\n"
   ]
  },
  {
   "cell_type": "code",
   "execution_count": null,
   "metadata": {},
   "outputs": [],
   "source": []
  }
 ],
 "metadata": {
  "kernelspec": {
   "display_name": "Python 3",
   "language": "python",
   "name": "python3"
  },
  "language_info": {
   "codemirror_mode": {
    "name": "ipython",
    "version": 3
   },
   "file_extension": ".py",
   "mimetype": "text/x-python",
   "name": "python",
   "nbconvert_exporter": "python",
   "pygments_lexer": "ipython3",
   "version": "3.8.6"
  }
 },
 "nbformat": 4,
 "nbformat_minor": 4
}
